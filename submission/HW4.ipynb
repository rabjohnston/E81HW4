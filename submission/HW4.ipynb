{
 "cells": [
  {
   "cell_type": "markdown",
   "metadata": {},
   "source": [
    "# Homework 4 - Neural Network Deep Dive\n",
    "\n",
    "Rob Johnston and Haris Memic"
   ]
  },
  {
   "cell_type": "markdown",
   "metadata": {},
   "source": [
    "## Baseline runs"
   ]
  },
  {
   "cell_type": "markdown",
   "metadata": {},
   "source": [
    "### Generic Deep Neural Network\n",
    "\n",
    "<b>3a) Train and test a generic deep neural network on the data. Record the training time (your choice of approaches) and the accuracy on the test set.</b>\n",
    "\n",
    "Our first neural network (baseline_nn.py) is a model with three hidden layers of depth 1024, 512, 256 and uses gradient descent as the optimizer. We run it with the following hyper-parameters:\n",
    "<code>\n",
    "batch_size: 256, hidden_nodes: 1024, lamb_reg: 0.01, start_learning_rate: 0.01\n",
    "</code>\n"
   ]
  },
  {
   "cell_type": "code",
   "execution_count": 26,
   "metadata": {
    "collapsed": true
   },
   "outputs": [],
   "source": [
    "%matplotlib inline\n",
    "import matplotlib.pyplot as plt\n",
    "\n",
    "def plotAccuracy(title, epochs):\n",
    "    \"\"\" Plot training accuracy against the batch number\n",
    "    \"\"\"\n",
    "    plt.figure()\n",
    "    plt.title(title)\n",
    "    plt.xlabel(\"Batch\")\n",
    "    plt.ylabel(\"Training Accuracy\")\n",
    "    batch = [entry.epoch for entry in epochs.values()]\n",
    "    acc = [entry.train_accuracy for entry in epochs.values()]\n",
    "    plt.scatter(batch, acc)\n",
    "    plt.show()"
   ]
  },
  {
   "cell_type": "code",
   "execution_count": 27,
   "metadata": {
    "collapsed": false
   },
   "outputs": [
    {
     "name": "stdout",
     "output_type": "stream",
     "text": [
      "Loading:  results/baseline_nn4/saved_NN_000\n",
      "Params:  {'lamb_reg': 0.01, 'start_learning_rate': 0.01, 'accuracy': 51.350000000000001, 'hidden_nodes': 1024, 'batch_size': 128, 'time': 36.14}\n",
      "Time taken to train model: 36.14 mins\n",
      "Accuracy of model against test data: 51.35\n"
     ]
    },
    {
     "data": {
      "image/png": "[encoded data removed]",
      "text/plain": [
       "<matplotlib.figure.Figure at 0x117486c50>"
      ]
     },
     "metadata": {},
     "output_type": "display_data"
    }
   ],
   "source": [
    "%run '../rob/baseline.py'\n",
    "%run '../rob/baseline_nn.py'\n",
    "%run '../rob/result.py'\n",
    "%run '../rob/results.py'\n",
    "\n",
    "rs_nn4 = Results()\n",
    "rs_nn4.load('results/baseline_nn4')\n",
    "result_nn4 = rs_nn4.highest('accuracy')\n",
    "print('Time taken to train model: {} mins'.format(result_nn4.params['time']))\n",
    "print('Accuracy of model against test data: {}'.format(result_nn4.params['accuracy']))\n",
    "\n",
    "\n",
    "plotAccuracy('NN (batch_size: {}, Learning Rate: {})'\\\n",
    "             .format(result_nn4.params['batch_size'], result_nn4.params['start_learning_rate']), result_nn4.epochs)\n",
    "      "
   ]
  },
  {
   "cell_type": "markdown",
   "metadata": {},
   "source": [
    "### Generic Convolutional Network\n",
    "\n",
    "3b) Train and test a generic convolutional network on the data. Record the training time (your choice of approaches) and the accuracy on the test set."
   ]
  },
  {
   "cell_type": "markdown",
   "metadata": {},
   "source": [
    "### Generic Non-Neural Network\n",
    "\n",
    "3c) Train and test a non-NN algorithm with reasonable performance on the data. I would suggest not SVM for speed reasons. I would suggest avoiding Naïve Bayes and Decision Tree as they generally lack accuracy, but might be worth a try as a supplement. As before, record the training time (your choice of approaches) and the accuracy on the test set.\n",
    "\n"
   ]
  },
  {
   "cell_type": "markdown",
   "metadata": {},
   "source": [
    "### Comparison of models\n",
    "\n",
    "3d) Comment on the differences and perhaps plot the results"
   ]
  },
  {
   "cell_type": "code",
   "execution_count": null,
   "metadata": {
    "collapsed": true
   },
   "outputs": [],
   "source": [
    "# Load the labels\n",
    "\n",
    "\n",
    "# Compute ROC curve and Area Under the Curve\n",
    "#fpr[i], tpr[i], _ = roc_curve(attrsC1.Y_test, attrsC1.final_pred)\n",
    "#fpr, tpr, thresholds = roc_curve(attrsC1.Y_test[0], attrsC1.final_pred[0])\n",
    "fpr, tpr, thresholds = roc_curve(attrsC1.Y_test, result_nn4.test_preds[:, 1])\n",
    "roc_auc = auc(fpr, tpr)\n",
    "plt.plot(fpr, tpr, lw=1, label='Neural Network ({})'.format(roc_auc.round(4)))\n",
    "\n",
    "\n",
    "plt.plot([0, 1], [0, 1], '--', color=(0.6, 0.6, 0.6), label='Luck')\n",
    "\n",
    "plt.xlim([-0.05, 1.05])\n",
    "plt.ylim([-0.05, 1.05])\n",
    "plt.xlabel('False Positive Rate')\n",
    "plt.ylabel('True Positive Rate')\n",
    "plt.title('ROC Curves')\n",
    "plt.legend(loc=\"lower right\")\n",
    "plt.show()"
   ]
  },
  {
   "cell_type": "markdown",
   "metadata": {},
   "source": [
    "## Sensitivity to training data\n",
    "\n",
    "4) Assess the sensitivity of the test set to training data size [10]\n",
    "* Randomly divide the training data into at least 3 pieces (like cross-validation): A, B, C, ... but do so in a way that preserves the an equal fraction of the 10 categories of images across sets. That is, each set {A,B, etc.} should have the same number of category 1, 2,...10 images within it.\n",
    "* Train your classifiers in part 3 on each of the following, A, AB, etc. and test on the full test set \n",
    "* Plot and comment on how quickly the classifiers learn as compared to 3) using the full data set"
   ]
  },
  {
   "cell_type": "markdown",
   "metadata": {},
   "source": [
    "## Image Distortion\n",
    "\n",
    "5) Assess the sensitivity of the test set to distortions [15 pts]\n",
    "* Create at least one additional test sets by distorting the test set in one manner (not the training data). Possible choices include:\n",
    " Adding random noise to the images of different levels\n",
    " Shifting the brightness or contrast by different levels\n",
    " Flipping or transposing the images\n",
    " Randomly settting different fractions of the pixels to an intermediate value\n",
    " Obscuring the top k rows of the images to an intermediate value (different levels of k)\n",
    "These can be done on the fly in testing or separately. TensorFlow includes some options in their tf.images package but similar results could be obtained using GIMP, for example.\n",
    "* Repeat the baseline run analysis in 3) on the distorted images 5c) Comment on what you learned"
   ]
  },
  {
   "cell_type": "markdown",
   "metadata": {},
   "source": [
    "## Tuning of hyper-parameters\n",
    "\n",
    "6) Compare the tuning of hyperparameters across architectural models [25 points]\n",
    "* Select at least 2 architectural models where an architectural model can include:\n",
    "1. arrangement of layers in a CNN\n",
    "2. number of hidden layers\n",
    "3. number of nodes in hidden layers\n",
    "4. order of pooling/convolution/etc. in CNN, and/or CNN vs. deep NN\n",
    "\n",
    "* Compare the architectures in terms of speed & accuracy across  2 hyperparameters such as:  gradient descent optimization methods such as momentum, ADAM, Adagrad, etc.\n",
    "1. normalization effects\n",
    "2. regularization\n",
    "3. dropout\n",
    "* Plot the results and comment on what you learned. Compare the errors (or accuracy) as a function of epoch."
   ]
  },
  {
   "cell_type": "markdown",
   "metadata": {},
   "source": [
    "## Maximisng performance of CNN\n",
    "\n",
    "7) Maximize your performance with your deep neural network or the CNN [30 pts]\n",
    "* Tune the parameters\n",
    "* Discover what works best and walk us through what you tried\n",
    "* Submit the performance as a %accuracy and as a 10x10 table in the format showing the counts of the test images actual vs. predicted."
   ]
  },
  {
   "cell_type": "markdown",
   "metadata": {},
   "source": [
    "## Exploratory Points\n",
    "\n",
    "8) Exploratory points [optional]\n",
    "Exploratory points will be given if you go beyond these methods.\n",
    "ideas for this part that could include different data sets, different types of networks, a significantly deeper analysis into the tuning perhaps, etc. Include a separate section highlighting what you have done that is worthy of exploratory points so we don’t overlook your effort."
   ]
  },
  {
   "cell_type": "markdown",
   "metadata": {},
   "source": [
    "### Building a GPU enabled workstation"
   ]
  },
  {
   "cell_type": "code",
   "execution_count": null,
   "metadata": {
    "collapsed": true
   },
   "outputs": [],
   "source": []
  }
 ],
 "metadata": {
  "kernelspec": {
   "display_name": "Python 3",
   "language": "python",
   "name": "python3"
  },
  "language_info": {
   "codemirror_mode": {
    "name": "ipython",
    "version": 3
   },
   "file_extension": ".py",
   "mimetype": "text/x-python",
   "name": "python",
   "nbconvert_exporter": "python",
   "pygments_lexer": "ipython3",
   "version": "3.5.2"
  }
 },
 "nbformat": 4,
 "nbformat_minor": 0
}
